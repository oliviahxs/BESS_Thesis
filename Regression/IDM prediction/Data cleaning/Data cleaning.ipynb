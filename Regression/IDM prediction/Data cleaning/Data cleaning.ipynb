{
 "cells": [
  {
   "cell_type": "code",
   "execution_count": 10,
   "id": "7ca82090",
   "metadata": {},
   "outputs": [
    {
     "name": "stdout",
     "output_type": "stream",
     "text": [
      "            Date (UK)  DAM price  IDM price\n",
      "0 2015-01-01 00:00:00      39.60      37.76\n",
      "1 2015-01-01 01:00:00      37.18      32.60\n",
      "2 2015-01-01 02:00:00      32.40      30.28\n",
      "3 2015-01-01 03:00:00      29.29      25.99\n",
      "4 2015-01-01 04:00:00      27.24      25.54\n"
     ]
    }
   ],
   "source": [
    "import pandas as pd\n",
    "\n",
    "# Read the CSV file\n",
    "df = pd.read_csv('raw DAM IDM price.csv')\n",
    "\n",
    "# Remove square brackets from date column and convert to datetime\n",
    "df['Date (WET)'] = df['Date (WET)'].str.strip('[]')\n",
    "df['Date (WET)'] = pd.to_datetime(df['Date (WET)'], format='%d/%m/%Y %H:%M')\n",
    "\n",
    "# Localize to WET, convert to UK time, then remove timezone info\n",
    "df['Date (UK)'] = df['Date (WET)'].dt.tz_localize('WET', ambiguous='NaT').dt.tz_convert('Europe/London').dt.tz_localize(None)\n",
    "\n",
    "# Keep only the columns we need: Date, DAM, IDM\n",
    "df = df[['Date (UK)', 'DAM price', 'IDM price']]\n",
    "\n",
    "# Display the result\n",
    "print(df.head())\n",
    "\n",
    "df.to_csv('UK_time_DAM_IDM_data.csv', index=False)"
   ]
  },
  {
   "cell_type": "code",
   "execution_count": 11,
   "id": "a031916e",
   "metadata": {},
   "outputs": [
    {
     "name": "stdout",
     "output_type": "stream",
     "text": [
      "Missing values check:\n",
      "Date (UK)     20\n",
      "DAM price      0\n",
      "IDM price    220\n",
      "dtype: int64\n",
      "\n",
      "Total rows: 87672\n",
      "Complete rows (no missing values): 87432\n",
      "Rows after removing empty dates: 87652\n"
     ]
    }
   ],
   "source": [
    "# Check for missing values in the cleaned data\n",
    "df_cleaned = pd.read_csv('UK_time_DAM_IDM_data.csv')\n",
    "\n",
    "print(\"Missing values check:\")\n",
    "print(df_cleaned.isnull().sum())\n",
    "print(f\"\\nTotal rows: {len(df_cleaned)}\")\n",
    "print(f\"Complete rows (no missing values): {df_cleaned.dropna().shape[0]}\")\n",
    "\n",
    "# Fill missing values with column means\n",
    "df_cleaned.fillna(df_cleaned.mean(numeric_only=True), inplace=True)\n",
    "df_cleaned.to_csv('UK_time_DAM_IDM_data.csv', index=False)\n",
    "\n",
    "# Remove rows with empty UK date\n",
    "df_cleaned = df_cleaned.dropna(subset=['Date (UK)'])\n",
    "print(f\"Rows after removing empty dates: {len(df_cleaned)}\")\n",
    "\n",
    "df_cleaned.to_csv('cleaned_DAM_IDM_data.csv', index=False)"
   ]
  },
  {
   "cell_type": "code",
   "execution_count": null,
   "id": "cc7f2804",
   "metadata": {},
   "outputs": [],
   "source": []
  }
 ],
 "metadata": {
  "kernelspec": {
   "display_name": "Python 3",
   "language": "python",
   "name": "python3"
  },
  "language_info": {
   "codemirror_mode": {
    "name": "ipython",
    "version": 3
   },
   "file_extension": ".py",
   "mimetype": "text/x-python",
   "name": "python",
   "nbconvert_exporter": "python",
   "pygments_lexer": "ipython3",
   "version": "3.11.13"
  }
 },
 "nbformat": 4,
 "nbformat_minor": 5
}
