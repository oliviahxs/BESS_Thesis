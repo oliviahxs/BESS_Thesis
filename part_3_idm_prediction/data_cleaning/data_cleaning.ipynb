{
 "cells": [
  {
   "cell_type": "code",
   "execution_count": 3,
   "id": "7ca82090",
   "metadata": {},
   "outputs": [
    {
     "name": "stdout",
     "output_type": "stream",
     "text": [
      "Missing values check:\n",
      "Date (UK)      0\n",
      "DAM price      0\n",
      "IDM price    220\n",
      "dtype: int64\n",
      "\n",
      "Total rows: 87652\n",
      "Complete rows (no missing values): 87432\n",
      "Final rows after cleaning: 87652\n",
      "\n",
      "First 5 rows of cleaned data:\n",
      "            Date (UK)  DAM price  IDM price\n",
      "0 2015-01-01 00:00:00      39.60      37.76\n",
      "1 2015-01-01 01:00:00      37.18      32.60\n",
      "2 2015-01-01 02:00:00      32.40      30.28\n",
      "3 2015-01-01 03:00:00      29.29      25.99\n",
      "4 2015-01-01 04:00:00      27.24      25.54\n",
      "\n",
      "Data saved to 'cleaned_dam_idm_data.csv'\n"
     ]
    },
    {
     "name": "stderr",
     "output_type": "stream",
     "text": [
      "/var/folders/hh/yly126sx0nv7wh7rwnh8n_pm0000gn/T/ipykernel_15846/2733366443.py:26: FutureWarning: A value is trying to be set on a copy of a DataFrame or Series through chained assignment using an inplace method.\n",
      "The behavior will change in pandas 3.0. This inplace method will never work because the intermediate object on which we are setting values always behaves as a copy.\n",
      "\n",
      "For example, when doing 'df[col].method(value, inplace=True)', try using 'df.method({col: value}, inplace=True)' or df[col] = df[col].method(value) instead, to perform the operation inplace on the original object.\n",
      "\n",
      "\n",
      "  df['DAM price'].fillna(df['DAM price'].mean(), inplace=True)\n",
      "/var/folders/hh/yly126sx0nv7wh7rwnh8n_pm0000gn/T/ipykernel_15846/2733366443.py:27: FutureWarning: A value is trying to be set on a copy of a DataFrame or Series through chained assignment using an inplace method.\n",
      "The behavior will change in pandas 3.0. This inplace method will never work because the intermediate object on which we are setting values always behaves as a copy.\n",
      "\n",
      "For example, when doing 'df[col].method(value, inplace=True)', try using 'df.method({col: value}, inplace=True)' or df[col] = df[col].method(value) instead, to perform the operation inplace on the original object.\n",
      "\n",
      "\n",
      "  df['IDM price'].fillna(df['IDM price'].mean(), inplace=True)\n"
     ]
    }
   ],
   "source": [
    "import pandas as pd\n",
    "\n",
    "# Read the raw CSV file\n",
    "df = pd.read_csv('raw_dam_idm_price.csv')\n",
    "\n",
    "# Remove square brackets from date column and convert to datetime\n",
    "df['Date (WET)'] = df['Date (WET)'].str.strip('[]')\n",
    "df['Date (WET)'] = pd.to_datetime(df['Date (WET)'], format='%d/%m/%Y %H:%M')\n",
    "\n",
    "# Localize to WET, convert to UK time, then remove timezone info\n",
    "df['Date (UK)'] = df['Date (WET)'].dt.tz_localize('WET', ambiguous='NaT').dt.tz_convert('Europe/London').dt.tz_localize(None)\n",
    "\n",
    "# Keep only the columns we need: Date, DAM, IDM\n",
    "df = df[['Date (UK)', 'DAM price', 'IDM price']]\n",
    "\n",
    "# Remove rows with empty UK date first\n",
    "df = df.dropna(subset=['Date (UK)'])\n",
    "\n",
    "# Check for missing values\n",
    "print(\"Missing values check:\")\n",
    "print(df.isnull().sum())\n",
    "print(f\"\\nTotal rows: {len(df)}\")\n",
    "print(f\"Complete rows (no missing values): {df.dropna().shape[0]}\")\n",
    "\n",
    "# Fill missing values with column means for price columns only\n",
    "df['DAM price'].fillna(df['DAM price'].mean(), inplace=True)\n",
    "df['IDM price'].fillna(df['IDM price'].mean(), inplace=True)\n",
    "\n",
    "print(f\"Final rows after cleaning: {len(df)}\")\n",
    "\n",
    "# Display the result\n",
    "print(\"\\nFirst 5 rows of cleaned data:\")\n",
    "print(df.head())\n",
    "\n",
    "# Save directly to final cleaned file\n",
    "df.to_csv('cleaned_dam_idm_data.csv', index=False)\n",
    "print(\"\\nData saved to 'cleaned_dam_idm_data.csv'\")"
   ]
  },
  {
   "cell_type": "code",
   "execution_count": null,
   "id": "cc7f2804",
   "metadata": {},
   "outputs": [],
   "source": []
  }
 ],
 "metadata": {
  "kernelspec": {
   "display_name": ".venv",
   "language": "python",
   "name": "python3"
  },
  "language_info": {
   "codemirror_mode": {
    "name": "ipython",
    "version": 3
   },
   "file_extension": ".py",
   "mimetype": "text/x-python",
   "name": "python",
   "nbconvert_exporter": "python",
   "pygments_lexer": "ipython3",
   "version": "3.10.18"
  }
 },
 "nbformat": 4,
 "nbformat_minor": 5
}
