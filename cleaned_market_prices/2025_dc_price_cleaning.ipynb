{
 "cells": [
  {
   "cell_type": "code",
   "execution_count": null,
   "id": "pbhoswms1x",
   "metadata": {},
   "outputs": [
    {
     "name": "stdout",
     "output_type": "stream",
     "text": [
      "2025 DC Price Cleaning Notebook\n",
      "===============================\n",
      "This notebook processes raw DC price data and separates it into DCH and DCL products\n",
      "with proper EFA block mapping (1-6) and Date, EFA, Clearing Price format.\n"
     ]
    }
   ],
   "source": [
    "# Import required libraries\n",
    "import pandas as pd\n",
    "from datetime import datetime, timedelta\n",
    "import os\n",
    "\n",
    "print(\"2025 DC Price Cleaning Notebook\")\n",
    "print(\"===============================\")\n",
    "print(\"This notebook processes raw DC price data and separates it into DCH and DCL products\")\n",
    "print(\"with proper EFA block mapping (1-6) and Date, EFA, Clearing Price format.\")"
   ]
  },
  {
   "cell_type": "code",
   "execution_count": 3,
   "id": "32716ccb",
   "metadata": {},
   "outputs": [
    {
     "name": "stdout",
     "output_type": "stream",
     "text": [
      "Raw data shape: (2172, 5)\n",
      "\n",
      "Columns: ['Auction ID', 'Product', 'Delivery Start', 'Delivery End', 'Clearing Price']\n",
      "\n",
      "First few rows:\n",
      "    Auction ID Product       Delivery Start         Delivery End  \\\n",
      "0          906     DCL  2024-12-31T23:00:00  2025-01-01T03:00:00   \n",
      "1          906     DCH  2024-12-31T23:00:00  2025-01-01T03:00:00   \n",
      "2          906     DCH  2025-01-01T03:00:00  2025-01-01T07:00:00   \n",
      "3          906     DCH  2025-01-01T07:00:00  2025-01-01T11:00:00   \n",
      "4          906     DCH  2025-01-01T11:00:00  2025-01-01T15:00:00   \n",
      "5          906     DCH  2025-01-01T15:00:00  2025-01-01T19:00:00   \n",
      "6          906     DCH  2025-01-01T19:00:00  2025-01-01T23:00:00   \n",
      "7          906     DCL  2025-01-01T03:00:00  2025-01-01T07:00:00   \n",
      "8          906     DCL  2025-01-01T07:00:00  2025-01-01T11:00:00   \n",
      "9          906     DCL  2025-01-01T11:00:00  2025-01-01T15:00:00   \n",
      "10         906     DCL  2025-01-01T15:00:00  2025-01-01T19:00:00   \n",
      "11         906     DCL  2025-01-01T19:00:00  2025-01-01T23:00:00   \n",
      "12         908     DCH  2025-01-01T23:00:00  2025-01-02T03:00:00   \n",
      "13         908     DCH  2025-01-02T03:00:00  2025-01-02T07:00:00   \n",
      "14         908     DCH  2025-01-02T07:00:00  2025-01-02T11:00:00   \n",
      "\n",
      "    Clearing Price  \n",
      "0             2.50  \n",
      "1             3.00  \n",
      "2             4.50  \n",
      "3             2.50  \n",
      "4             4.60  \n",
      "5             1.75  \n",
      "6             2.00  \n",
      "7             3.96  \n",
      "8             2.25  \n",
      "9             2.14  \n",
      "10            6.25  \n",
      "11            3.34  \n",
      "12            4.00  \n",
      "13            5.50  \n",
      "14            3.48  \n",
      "\n",
      "Unique products:\n",
      "['DCL' 'DCH']\n",
      "\n",
      "Delivery time examples:\n",
      "Delivery Start unique times (first 20):\n",
      "['2024-12-31T23:00:00', '2025-01-01T03:00:00', '2025-01-01T07:00:00', '2025-01-01T11:00:00', '2025-01-01T15:00:00', '2025-01-01T19:00:00', '2025-01-01T23:00:00', '2025-01-02T03:00:00', '2025-01-02T07:00:00', '2025-01-02T11:00:00', '2025-01-02T15:00:00', '2025-01-02T19:00:00', '2025-01-02T23:00:00', '2025-01-03T03:00:00', '2025-01-03T07:00:00', '2025-01-03T11:00:00', '2025-01-03T15:00:00', '2025-01-03T19:00:00', '2025-01-03T23:00:00', '2025-01-04T03:00:00']\n"
     ]
    }
   ],
   "source": [
    "# Load and examine the raw DC price data\n",
    "raw_data_path = \"Results for EDA/Raw DC Price.csv\"\n",
    "df_raw = pd.read_csv(raw_data_path)\n",
    "\n",
    "print(\"Raw data shape:\", df_raw.shape)\n",
    "print(\"\\nColumns:\", df_raw.columns.tolist())\n",
    "print(\"\\nFirst few rows:\")\n",
    "print(df_raw.head(15))\n",
    "\n",
    "print(\"\\nUnique products:\")\n",
    "print(df_raw['Product'].unique())\n",
    "\n",
    "print(\"\\nDelivery time examples:\")\n",
    "print(\"Delivery Start unique times (first 20):\")\n",
    "print(sorted(df_raw['Delivery Start'].unique())[:20])"
   ]
  },
  {
   "cell_type": "code",
   "execution_count": 4,
   "id": "b8bc2615",
   "metadata": {},
   "outputs": [
    {
     "name": "stdout",
     "output_type": "stream",
     "text": [
      "EFA mapping functions defined successfully!\n"
     ]
    }
   ],
   "source": [
    "# Function to map delivery start time to EFA block\n",
    "def get_efa_block(delivery_start_str):\n",
    "    \"\"\"\n",
    "    Map delivery start time to EFA block (1-6)\n",
    "    EFA blocks:\n",
    "    1: 23:00 (11pm) or 22:00 (10pm) - previous day \n",
    "    2: 03:00 (3am)\n",
    "    3: 07:00 (7am) \n",
    "    4: 11:00 (11am)\n",
    "    5: 15:00 (3pm)\n",
    "    6: 19:00 (7pm)\n",
    "    \"\"\"\n",
    "    # Extract time from the datetime string\n",
    "    time_str = delivery_start_str.split('T')[1][:5]  # Get HH:MM\n",
    "    \n",
    "    # Map time to EFA block\n",
    "    time_to_efa = {\n",
    "        '23:00': 1,  # 11pm\n",
    "        '22:00': 1,  # 10pm (edge case)\n",
    "        '03:00': 2,  # 3am\n",
    "        '02:00': 2,  # 2am (edge case)\n",
    "        '07:00': 3,  # 7am\n",
    "        '06:00': 3,  # 6am (edge case)\n",
    "        '11:00': 4,  # 11am\n",
    "        '10:00': 4,  # 10am (edge case)\n",
    "        '15:00': 5,  # 3pm\n",
    "        '14:00': 5,  # 2pm (edge case)\n",
    "        '19:00': 6,  # 7pm\n",
    "        '18:00': 6,  # 6pm (edge case)\n",
    "    }\n",
    "    \n",
    "    return time_to_efa.get(time_str, None)\n",
    "\n",
    "# Function to get the delivery date (accounting for EFA block 1 starting previous day)\n",
    "def get_delivery_date(delivery_start_str, efa_block):\n",
    "    \"\"\"\n",
    "    Get the delivery date. For EFA block 1 (starting at 11pm/10pm), \n",
    "    the delivery date is the next day\n",
    "    \"\"\"\n",
    "    date_str = delivery_start_str.split('T')[0]\n",
    "    date_obj = datetime.strptime(date_str, '%Y-%m-%d')\n",
    "    \n",
    "    if efa_block == 1:\n",
    "        # EFA block 1 starts the night before, so delivery date is next day\n",
    "        date_obj = date_obj + timedelta(days=1)\n",
    "    \n",
    "    return date_obj.strftime('%Y-%m-%d')\n",
    "\n",
    "print(\"EFA mapping functions defined successfully!\")"
   ]
  },
  {
   "cell_type": "code",
   "execution_count": 5,
   "id": "e5d37f43",
   "metadata": {},
   "outputs": [
    {
     "name": "stdout",
     "output_type": "stream",
     "text": [
      "Testing EFA mapping:\n",
      "2025-01-01T23:00:00 -> EFA 1, Delivery Date: 2025-01-02\n",
      "2025-01-01T22:00:00 -> EFA 1, Delivery Date: 2025-01-02\n",
      "2025-01-01T03:00:00 -> EFA 2, Delivery Date: 2025-01-01\n",
      "2025-01-01T07:00:00 -> EFA 3, Delivery Date: 2025-01-01\n",
      "2025-01-01T11:00:00 -> EFA 4, Delivery Date: 2025-01-01\n",
      "2025-01-01T15:00:00 -> EFA 5, Delivery Date: 2025-01-01\n",
      "2025-01-01T19:00:00 -> EFA 6, Delivery Date: 2025-01-01\n"
     ]
    }
   ],
   "source": [
    "# Test the EFA mapping functions\n",
    "print(\"Testing EFA mapping:\")\n",
    "test_times = ['2025-01-01T23:00:00', '2025-01-01T22:00:00', '2025-01-01T03:00:00', \n",
    "              '2025-01-01T07:00:00', '2025-01-01T11:00:00', '2025-01-01T15:00:00', '2025-01-01T19:00:00']\n",
    "\n",
    "for time_str in test_times:\n",
    "    efa = get_efa_block(time_str)\n",
    "    date = get_delivery_date(time_str, efa)\n",
    "    print(f\"{time_str} -> EFA {efa}, Delivery Date: {date}\")"
   ]
  },
  {
   "cell_type": "code",
   "execution_count": 6,
   "id": "48193fef",
   "metadata": {},
   "outputs": [
    {
     "name": "stdout",
     "output_type": "stream",
     "text": [
      "Processing raw data...\n",
      "DCH cleaned data shape: (1086, 3)\n",
      "DCL cleaned data shape: (1086, 3)\n",
      "Data processing completed!\n"
     ]
    }
   ],
   "source": [
    "# Process the raw data to create cleaned format\n",
    "def clean_dc_data(df_raw):\n",
    "    \"\"\"\n",
    "    Clean the raw DC data and separate into DCH and DCL products\n",
    "    \"\"\"\n",
    "    # Create copy of data\n",
    "    df_clean = df_raw.copy()\n",
    "    \n",
    "    # Add EFA block\n",
    "    df_clean['EFA'] = df_clean['Delivery Start'].apply(get_efa_block)\n",
    "    \n",
    "    # Add delivery date \n",
    "    df_clean['Date'] = df_clean.apply(lambda row: get_delivery_date(row['Delivery Start'], row['EFA']), axis=1)\n",
    "    \n",
    "    # Select only needed columns\n",
    "    df_clean = df_clean[['Date', 'EFA', 'Product', 'Clearing Price']]\n",
    "    \n",
    "    # Check for any missing EFA mappings\n",
    "    missing_efa = df_clean[df_clean['EFA'].isna()]\n",
    "    if not missing_efa.empty:\n",
    "        print(\"Warning: Found rows with missing EFA mapping:\")\n",
    "        print(missing_efa.head(10))\n",
    "    \n",
    "    # Separate DCH and DCL\n",
    "    df_dch = df_clean[df_clean['Product'] == 'DCH'][['Date', 'EFA', 'Clearing Price']].copy()\n",
    "    df_dcl = df_clean[df_clean['Product'] == 'DCL'][['Date', 'EFA', 'Clearing Price']].copy()\n",
    "    \n",
    "    # Sort by date and EFA\n",
    "    df_dch = df_dch.sort_values(['Date', 'EFA']).reset_index(drop=True)\n",
    "    df_dcl = df_dcl.sort_values(['Date', 'EFA']).reset_index(drop=True)\n",
    "    \n",
    "    return df_dch, df_dcl\n",
    "\n",
    "# Clean the data\n",
    "print(\"Processing raw data...\")\n",
    "df_dch_clean, df_dcl_clean = clean_dc_data(df_raw)\n",
    "\n",
    "print(\"DCH cleaned data shape:\", df_dch_clean.shape)\n",
    "print(\"DCL cleaned data shape:\", df_dcl_clean.shape)\n",
    "print(\"Data processing completed!\")"
   ]
  },
  {
   "cell_type": "code",
   "execution_count": 7,
   "id": "b2cbabe2",
   "metadata": {},
   "outputs": [
    {
     "name": "stdout",
     "output_type": "stream",
     "text": [
      "DCH sample data:\n",
      "          Date  EFA  Clearing Price\n",
      "0   2025-01-01    1            3.00\n",
      "1   2025-01-01    2            4.50\n",
      "2   2025-01-01    3            2.50\n",
      "3   2025-01-01    4            4.60\n",
      "4   2025-01-01    5            1.75\n",
      "5   2025-01-01    6            2.00\n",
      "6   2025-01-02    1            4.00\n",
      "7   2025-01-02    2            5.50\n",
      "8   2025-01-02    3            3.48\n",
      "9   2025-01-02    4            2.00\n",
      "10  2025-01-02    5            0.91\n",
      "11  2025-01-02    6            2.48\n",
      "\n",
      "DCL sample data:\n",
      "          Date  EFA  Clearing Price\n",
      "0   2025-01-01    1            2.50\n",
      "1   2025-01-01    2            3.96\n",
      "2   2025-01-01    3            2.25\n",
      "3   2025-01-01    4            2.14\n",
      "4   2025-01-01    5            6.25\n",
      "5   2025-01-01    6            3.34\n",
      "6   2025-01-02    1            2.00\n",
      "7   2025-01-02    2            4.69\n",
      "8   2025-01-02    3            3.61\n",
      "9   2025-01-02    4            2.00\n",
      "10  2025-01-02    5            5.30\n",
      "11  2025-01-02    6            2.50\n"
     ]
    }
   ],
   "source": [
    "# Preview the cleaned data\n",
    "print(\"DCH sample data:\")\n",
    "print(df_dch_clean.head(12))\n",
    "\n",
    "print(\"\\nDCL sample data:\")\n",
    "print(df_dcl_clean.head(12))"
   ]
  },
  {
   "cell_type": "code",
   "execution_count": 8,
   "id": "5536e485",
   "metadata": {},
   "outputs": [
    {
     "name": "stdout",
     "output_type": "stream",
     "text": [
      "Saving cleaned data to CSV files...\n",
      "DCL data saved to: ../Cleaned market prices/DC/DCL/2025 DCL Price.csv\n",
      "DCH data saved to: ../Cleaned market prices/DC/DCH/2025 DCH Price.csv\n",
      "\n",
      "Final file sizes:\n",
      "DCL file: 1086 rows\n",
      "DCH file: 1086 rows\n"
     ]
    }
   ],
   "source": [
    "# Save cleaned data to CSV files\n",
    "print(\"Saving cleaned data to CSV files...\")\n",
    "\n",
    "# Create output directories if they don't exist\n",
    "dcl_output_dir = \"../Cleaned market prices/DC/DCL/\"\n",
    "dch_output_dir = \"../Cleaned market prices/DC/DCH/\"\n",
    "\n",
    "os.makedirs(dcl_output_dir, exist_ok=True)\n",
    "os.makedirs(dch_output_dir, exist_ok=True)\n",
    "\n",
    "# Save cleaned data to CSV files\n",
    "dcl_output_path = os.path.join(dcl_output_dir, \"2025 DCL Price.csv\")\n",
    "dch_output_path = os.path.join(dch_output_dir, \"2025 DCH Price.csv\")\n",
    "\n",
    "df_dcl_clean.to_csv(dcl_output_path, index=False)\n",
    "df_dch_clean.to_csv(dch_output_path, index=False)\n",
    "\n",
    "print(f\"DCL data saved to: {dcl_output_path}\")\n",
    "print(f\"DCH data saved to: {dch_output_path}\")\n",
    "\n",
    "print(f\"\\nFinal file sizes:\")\n",
    "print(f\"DCL file: {df_dcl_clean.shape[0]} rows\")\n",
    "print(f\"DCH file: {df_dch_clean.shape[0]} rows\")"
   ]
  }
 ],
 "metadata": {
  "kernelspec": {
   "display_name": "venv",
   "language": "python",
   "name": "python3"
  },
  "language_info": {
   "codemirror_mode": {
    "name": "ipython",
    "version": 3
   },
   "file_extension": ".py",
   "mimetype": "text/x-python",
   "name": "python",
   "nbconvert_exporter": "python",
   "pygments_lexer": "ipython3",
   "version": "3.13.3"
  }
 },
 "nbformat": 4,
 "nbformat_minor": 5
}
